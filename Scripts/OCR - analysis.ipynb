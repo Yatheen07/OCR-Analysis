{
 "cells": [
  {
   "cell_type": "code",
   "execution_count": 12,
   "metadata": {},
   "outputs": [],
   "source": [
    "#Tesseract\n",
    "def getTextFromImage_Tesseract(inputImage):\n",
    "    try:\n",
    "        from PIL import Image\n",
    "    except ImportError:\n",
    "        import Image\n",
    "    import pytesseract\n",
    "    pytesseract.pytesseract.tesseract_cmd = 'C:/Program Files (x86)/Tesseract-OCR/tesseract'\n",
    "    TESSDATA_PREFIX = 'C:/Program Files (x86)/Tesseract-OCR'\n",
    "    resut_from_tesseract = pytesseract.image_to_string(Image.fromarray(inputImage))\n",
    "    return resut_from_tesseract\n",
    "    "
   ]
  },
  {
   "cell_type": "code",
   "execution_count": 29,
   "metadata": {},
   "outputs": [
    {
     "name": "stdout",
     "output_type": "stream",
     "text": [
      "This is a lot of 12 point text to test the\n",
      "ocr code and see if it works on all types\n",
      "of file format.\n",
      "\n",
      "The quick brown dog jumped over the\n",
      "lazy fox. The quick brown dog jumped\n",
      "over the lazy fox. The quick brown dog\n",
      "jumped over the lazy fox. The quick\n",
      "brown dog jumped over the lazy fox.\n",
      "========================================\n",
      "Noisyimage\n",
      "to test\n",
      "Tesseract OCR\n",
      "========================================\n",
      "_ Tesseract Will\n",
      "Fail With Noisy\n",
      "_ Backgrounds —\n",
      "========================================\n",
      "HYeOO\n",
      "XIGONO\n",
      "Oa>nr\n",
      "LO><O0\n",
      "wasn\n",
      "aa> st\n",
      "oidDN\n",
      "oven\n",
      "inne\n",
      "========================================\n",
      "Opal C\\nana Oe Lecognition\n",
      "ra, dun gre Ge Carnie weve\n",
      "\\rrdworetting re Fext.\n",
      "========================================\n",
      "                                    Result-Tesseract\n",
      "0  This is a lot of 12 point text to test the\\noc...\n",
      "1                 Noisyimage\\nto test\\nTesseract OCR\n",
      "2  _ Tesseract Will\\nFail With Noisy\\n_ Backgroun...\n",
      "3  HYeOO\\nXIGONO\\nOa>nr\\nLO><O0\\nwasn\\naa> st\\noi...\n",
      "4  Opal C\\nana Oe Lecognition\\nra, dun gre Ge Car...\n",
      "Wall time: 7.11 s\n"
     ]
    }
   ],
   "source": [
    "%%time\n",
    "\n",
    "#Read the image\n",
    "import cv2\n",
    "inputPath = r\"E:/Mini Projects/Image Processing/OCR - Analysis/inputImages/\"\n",
    "i = 1\n",
    "result = []\n",
    "for i in range(1,6):\n",
    "    imagePath = inputPath+str(i)+'.png'\n",
    "    inputImage = cv2.imread(imagePath)\n",
    "    text = getTextFromImage_Tesseract(inputImage)\n",
    "    print(text)\n",
    "    print(\"=\"*40)\n",
    "    result.append(text)\n",
    "\n",
    "import pandas as pd\n",
    "resultDF = pd.DataFrame()\n",
    "resultDF[\"Result-Tesseract\"] = result\n",
    "print(resultDF.head())\n",
    "resultDF.to_csv(r\"E:/Mini Projects/Image Processing/OCR - Analysis/Results/result.csv\")"
   ]
  },
  {
   "cell_type": "code",
   "execution_count": null,
   "metadata": {},
   "outputs": [],
   "source": []
  },
  {
   "cell_type": "code",
   "execution_count": null,
   "metadata": {},
   "outputs": [],
   "source": []
  }
 ],
 "metadata": {
  "kernelspec": {
   "display_name": "Python 3",
   "language": "python",
   "name": "python3"
  },
  "language_info": {
   "codemirror_mode": {
    "name": "ipython",
    "version": 3
   },
   "file_extension": ".py",
   "mimetype": "text/x-python",
   "name": "python",
   "nbconvert_exporter": "python",
   "pygments_lexer": "ipython3",
   "version": "3.6.5"
  }
 },
 "nbformat": 4,
 "nbformat_minor": 2
}
